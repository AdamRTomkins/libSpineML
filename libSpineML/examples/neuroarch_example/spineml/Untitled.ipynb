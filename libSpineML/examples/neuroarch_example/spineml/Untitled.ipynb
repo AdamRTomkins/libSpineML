{
 "cells": [
  {
   "cell_type": "code",
   "execution_count": 25,
   "metadata": {},
   "outputs": [],
   "source": [
    "import pickle\n"
   ]
  },
  {
   "cell_type": "code",
   "execution_count": 26,
   "metadata": {},
   "outputs": [],
   "source": [
    "data = pickle.load(( open( \"tmp_data.p\", \"rb\" ) ))"
   ]
  },
  {
   "cell_type": "code",
   "execution_count": 27,
   "metadata": {},
   "outputs": [
    {
     "data": {
      "text/plain": [
       "['neurons', 'projections', 'population']"
      ]
     },
     "execution_count": 27,
     "metadata": {},
     "output_type": "execute_result"
    }
   ],
   "source": [
    "data.keys()"
   ]
  },
  {
   "cell_type": "code",
   "execution_count": 28,
   "metadata": {},
   "outputs": [
    {
     "data": {
      "text/plain": [
       "{'DLP': {'OPTU': [(0, 5, 1), (1, 5, 4)]},\n",
       " 'LOB': {'CCP': [(0, 0, 4), (0, 1, 3)],\n",
       "  'IDFP': [(0, 0, 1)],\n",
       "  'OPTU': [(0, 3, 2)],\n",
       "  'dmp': [(0, 0, 4)]},\n",
       " 'MED': {'CCP': [(2, 0, 1), (3, 0, 1), (3, 1, 1), (4, 0, 5)],\n",
       "  'DMP': [(2, 0, 7)],\n",
       "  'OPTU': [(0, 2, 3),\n",
       "   (1, 4, 2),\n",
       "   (1, 3, 1),\n",
       "   (1, 2, 5),\n",
       "   (2, 3, 3),\n",
       "   (3, 3, 2),\n",
       "   (3, 4, 1),\n",
       "   (4, 4, 2),\n",
       "   (4, 2, 1),\n",
       "   (5, 4, 2)],\n",
       "  'SPP': [(0, 0, 7), (1, 0, 4), (2, 0, 3), (4, 0, 2)],\n",
       "  'optu': [(2, 0, 1), (4, 0, 4)]},\n",
       " 'OPTU': {'CCP': [(6, 0, 2), (7, 1, 14), (8, 1, 5), (8, 0, 10)],\n",
       "  'DMP': [(1, 0, 1), (2, 0, 1), (8, 0, 1)],\n",
       "  'LOB': [(7, 0, 2), (8, 0, 4)],\n",
       "  'OPTU': [(0, 1, 4),\n",
       "   (4, 3, 2),\n",
       "   (4, 2, 16),\n",
       "   (1, 4, 2),\n",
       "   (7, 5, 26),\n",
       "   (8, 3, 7),\n",
       "   (8, 5, 21)],\n",
       "  'SPP': [(6, 0, 1), (1, 0, 1)],\n",
       "  'dmp': [(7, 0, 1), (8, 0, 5)]},\n",
       " 'eb': {'FB': [(0, 0, 7)]}}"
      ]
     },
     "execution_count": 28,
     "metadata": {},
     "output_type": "execute_result"
    }
   ],
   "source": [
    "data['projections']"
   ]
  },
  {
   "cell_type": "code",
   "execution_count": 29,
   "metadata": {},
   "outputs": [
    {
     "data": {
      "text/plain": [
       "{'CCP': ['fru-F-300168', 'VGlut-F-000453'],\n",
       " 'DLP': ['Gad1-F-900198', 'fru-F-600020'],\n",
       " 'DMP': ['Gad1-F-000117'],\n",
       " 'FB': ['VGlut-F-500874'],\n",
       " 'IDFP': ['Cha-F-600143'],\n",
       " 'LOB': ['fru-F-300171'],\n",
       " 'MED': ['Cha-F-400194',\n",
       "  'Gad1-F-400023',\n",
       "  'Cha-F-600239',\n",
       "  'Cha-F-300281',\n",
       "  'Cha-F-500233',\n",
       "  'Cha-F-600263'],\n",
       " 'OPTU': ['Cha-F-100165',\n",
       "  'Gad1-F-200003',\n",
       "  'fru-F-600151',\n",
       "  'VGlut-F-000465',\n",
       "  'Cha-F-000280',\n",
       "  'fru-F-000069',\n",
       "  'Gad1-F-200218',\n",
       "  'Gad1-F-900119',\n",
       "  'npf-F-500000'],\n",
       " 'SPP': ['Gad1-F-200078'],\n",
       " 'dmp': ['Cha-F-500297'],\n",
       " 'eb': ['VGlut-F-400880'],\n",
       " 'optu': ['fru-F-200039']}"
      ]
     },
     "execution_count": 29,
     "metadata": {},
     "output_type": "execute_result"
    }
   ],
   "source": [
    "data['population']\n",
    "#data['projections']['AL']"
   ]
  },
  {
   "cell_type": "code",
   "execution_count": null,
   "metadata": {},
   "outputs": [],
   "source": []
  }
 ],
 "metadata": {
  "kernelspec": {
   "display_name": "Python 2",
   "language": "python",
   "name": "python2"
  },
  "language_info": {
   "codemirror_mode": {
    "name": "ipython",
    "version": 2
   },
   "file_extension": ".py",
   "mimetype": "text/x-python",
   "name": "python",
   "nbconvert_exporter": "python",
   "pygments_lexer": "ipython2",
   "version": "2.7.13"
  }
 },
 "nbformat": 4,
 "nbformat_minor": 2
}
