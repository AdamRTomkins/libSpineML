{
 "cells": [
  {
   "cell_type": "code",
   "execution_count": 3,
   "metadata": {},
   "outputs": [],
   "source": [
    "\"\"\"\n",
    "A script to convert the drosophila connectome into SpineML \n",
    "\n",
    "This build upon the pure data to add in the required infered network components:\n",
    "\n",
    "# Install libSpineML from source\n",
    "# https://github.com/AdamRTomkins/libSpineML\n",
    "\n",
    "\"\"\"\n",
    "from __future__ import division\n",
    "\n",
    "from libSpineML import smlExperiment as exp\n",
    "from libSpineML import smlNetwork as net\n",
    "from libSpineML import smlComponent as com\n",
    "from libSpineML.smlUtils import  create_spineml_network\n",
    "from libSpineML.smlUtils import  process_connection_json\n",
    "\n",
    "import csv\n",
    "import sys\n",
    "\n",
    "import cStringIO\n",
    "import graphviz as gv\n",
    "import matplotlib.pyplot as plt\n",
    "import networkx as nx\n",
    "import numpy as np\n",
    "\n",
    "import copy\n",
    "\n",
    "\n",
    "def main(connection_json,lpu_dict):\n",
    "    \"\"\" Process the parameter files and create a SpineML network \"\"\"\n",
    "\n",
    "    neurons, populations, projections = process_connection_json(connections_json,lpu_dict,neuron_params = None) \n",
    "    print \"Creating SpineML representation...\"\n",
    "    create_spineml_network(neurons, populations,\n",
    "        projections,output_filename='network.xml',project_name= 'drosophila')\n",
    "  \n",
    "\n",
    "\n"
   ]
  },
  {
   "cell_type": "code",
   "execution_count": 4,
   "metadata": {},
   "outputs": [],
   "source": [
    "import pickle\n",
    "lpu_dict = pickle.load(( open( \"spineml/lpu_dicts.p\", \"rb\" ) ))\n",
    "connections_json = pickle.load(( open( \"spineml/example_connections_json.p\", \"rb\" ) ))\n"
   ]
  },
  {
   "cell_type": "code",
   "execution_count": 5,
   "metadata": {},
   "outputs": [
    {
     "name": "stdout",
     "output_type": "stream",
     "text": [
      "Creating SpineML representation...\n",
      "done\n"
     ]
    }
   ],
   "source": [
    "neurons, populations, projections = process_connection_json(connections_json,lpu_dict,neuron_params = None) \n",
    "print \"Creating SpineML representation...\"\n",
    "\n",
    "create_spineml_network(neurons, populations,\n",
    "projections,output_filename='network.xml',project_name= 'drosophila')\n",
    "\n",
    "print \"done\""
   ]
  },
  {
   "cell_type": "markdown",
   "metadata": {},
   "source": [
    "# Build an ESN implementation\n",
    "\n",
    "We can pass in a custom neuron parameters dictionary to specify the ESN network components\n"
   ]
  },
  {
   "cell_type": "code",
   "execution_count": 6,
   "metadata": {},
   "outputs": [],
   "source": [
    "neuron_params = {'mem_model':\n",
    "                            {'name':'ESNNode', 'filename':'ESNNode.xml'},\n",
    "                         'weight_update' :\n",
    "                            {'name':'ESNWeight', 'filename':'ESNWeight.xml'},\n",
    "                         'synapse' :\n",
    "                            {'name':'ESNConnection', 'filename':'ESNConnection.xml'}\n",
    "                        }"
   ]
  },
  {
   "cell_type": "code",
   "execution_count": 7,
   "metadata": {},
   "outputs": [
    {
     "name": "stdout",
     "output_type": "stream",
     "text": [
      "Creating SpineML representation...\n",
      "done\n"
     ]
    }
   ],
   "source": [
    "neurons, populations, projections = process_connection_json(connections_json,lpu_dict,neuron_params = neuron_params) \n",
    "print \"Creating SpineML representation...\"\n",
    "\n",
    "create_spineml_network(neurons, populations,\n",
    "projections,output_filename='ESN_files/esn_network.xml',project_name= 'drosophila')\n",
    "\n",
    "print \"done\""
   ]
  },
  {
   "cell_type": "code",
   "execution_count": null,
   "metadata": {},
   "outputs": [],
   "source": []
  },
  {
   "cell_type": "code",
   "execution_count": null,
   "metadata": {},
   "outputs": [],
   "source": []
  }
 ],
 "metadata": {
  "kernelspec": {
   "display_name": "Python 2",
   "language": "python",
   "name": "python2"
  },
  "language_info": {
   "codemirror_mode": {
    "name": "ipython",
    "version": 2
   },
   "file_extension": ".py",
   "mimetype": "text/x-python",
   "name": "python",
   "nbconvert_exporter": "python",
   "pygments_lexer": "ipython2",
   "version": "2.7.13"
  }
 },
 "nbformat": 4,
 "nbformat_minor": 2
}
