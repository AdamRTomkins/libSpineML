{
 "cells": [
  {
   "cell_type": "code",
   "execution_count": 34,
   "metadata": {},
   "outputs": [],
   "source": [
    "import pickle"
   ]
  },
  {
   "cell_type": "code",
   "execution_count": 35,
   "metadata": {},
   "outputs": [],
   "source": [
    "data = pickle.load(open('spineml/tmp_data.p','rb'))"
   ]
  },
  {
   "cell_type": "code",
   "execution_count": 40,
   "metadata": {},
   "outputs": [
    {
     "data": {
      "text/plain": [
       "[(0, 0)]"
      ]
     },
     "execution_count": 40,
     "metadata": {},
     "output_type": "execute_result"
    }
   ],
   "source": [
    "data['projections']['eb']['FB']"
   ]
  },
  {
   "cell_type": "code",
   "execution_count": 42,
   "metadata": {},
   "outputs": [
    {
     "name": "stdout",
     "output_type": "stream",
     "text": [
      "27\n"
     ]
    }
   ],
   "source": [
    "data['neurons']\n",
    "print len(data['neurons'].keys())\n"
   ]
  },
  {
   "cell_type": "code",
   "execution_count": 45,
   "metadata": {},
   "outputs": [
    {
     "data": {
      "text/plain": [
       "{'CCP': ['fru-F-300168', 'VGlut-F-000453'],\n",
       " 'DLP': ['Gad1-F-900198', 'fru-F-600020'],\n",
       " 'DMP': ['Gad1-F-000117'],\n",
       " 'FB': ['VGlut-F-500874'],\n",
       " 'IDFP': ['Cha-F-600143'],\n",
       " 'LOB': ['fru-F-300171'],\n",
       " 'MED': ['Cha-F-400194',\n",
       "  'Gad1-F-400023',\n",
       "  'Cha-F-600239',\n",
       "  'Cha-F-300281',\n",
       "  'Cha-F-500233',\n",
       "  'Cha-F-600263'],\n",
       " 'OPTU': ['Cha-F-100165',\n",
       "  'Gad1-F-200003',\n",
       "  'fru-F-600151',\n",
       "  'VGlut-F-000465',\n",
       "  'Cha-F-000280',\n",
       "  'fru-F-000069',\n",
       "  'Gad1-F-200218',\n",
       "  'Gad1-F-900119',\n",
       "  'npf-F-500000'],\n",
       " 'SPP': ['Gad1-F-200078'],\n",
       " 'dmp': ['Cha-F-500297'],\n",
       " 'eb': ['VGlut-F-400880'],\n",
       " 'optu': ['fru-F-200039']}"
      ]
     },
     "execution_count": 45,
     "metadata": {},
     "output_type": "execute_result"
    }
   ],
   "source": [
    "data['population']"
   ]
  },
  {
   "cell_type": "code",
   "execution_count": null,
   "metadata": {},
   "outputs": [],
   "source": []
  },
  {
   "cell_type": "code",
   "execution_count": 16,
   "metadata": {},
   "outputs": [],
   "source": [
    "data = pickle.load(( open( \"spineml/lpu_dicts.p\", \"rb\" ) ))"
   ]
  },
  {
   "cell_type": "code",
   "execution_count": 41,
   "metadata": {},
   "outputs": [
    {
     "ename": "NameError",
     "evalue": "name 'populations' is not defined",
     "output_type": "error",
     "traceback": [
      "\u001b[0;31m---------------------------------------------------------------------------\u001b[0m",
      "\u001b[0;31mNameError\u001b[0m                                 Traceback (most recent call last)",
      "\u001b[0;32m<ipython-input-41-59ec730a46d2>\u001b[0m in \u001b[0;36m<module>\u001b[0;34m()\u001b[0m\n\u001b[0;32m----> 1\u001b[0;31m \u001b[0mpopulations\u001b[0m\u001b[0;34m\u001b[0m\u001b[0m\n\u001b[0m",
      "\u001b[0;31mNameError\u001b[0m: name 'populations' is not defined"
     ]
    }
   ],
   "source": [
    "data['projections']"
   ]
  },
  {
   "cell_type": "code",
   "execution_count": null,
   "metadata": {},
   "outputs": [],
   "source": []
  }
 ],
 "metadata": {
  "kernelspec": {
   "display_name": "Python 2",
   "language": "python",
   "name": "python2"
  },
  "language_info": {
   "codemirror_mode": {
    "name": "ipython",
    "version": 2
   },
   "file_extension": ".py",
   "mimetype": "text/x-python",
   "name": "python",
   "nbconvert_exporter": "python",
   "pygments_lexer": "ipython2",
   "version": "2.7.13"
  }
 },
 "nbformat": 4,
 "nbformat_minor": 2
}
