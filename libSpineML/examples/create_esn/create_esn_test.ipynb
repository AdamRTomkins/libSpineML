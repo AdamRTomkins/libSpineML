{
 "cells": [
  {
   "cell_type": "code",
   "execution_count": 1,
   "metadata": {},
   "outputs": [],
   "source": [
    "\"\"\"\n",
    "A script to convert the drosophila connectome into SpineML \n",
    "\n",
    "This build upon the pure data to add in the required infered network components:\n",
    "\n",
    "# Install libSpineML from source\n",
    "# https://github.com/AdamRTomkins/libSpineML\n",
    "\n",
    "\n",
    "\"\"\"#\n",
    "from __future__ import division\n",
    "\n",
    "from libSpineML import smlExperiment as exp\n",
    "from libSpineML import smlNetwork as net\n",
    "from libSpineML import smlComponent as com\n",
    "from libSpineML.smlUtils import  create_spineml_network\n",
    "from libSpineML.smlUtils import  process_connection_json\n",
    "\n",
    "from libSpineML.smlUtils import  extract_adjacency_matrix\n",
    "from libSpineML.smlUtils import  inject_adjacency_matrix\n",
    "from libSpineML.smlUtils import set_esn_weights\n",
    "\n",
    "from matplotlib import pyplot as plt\n",
    "\n",
    "import csv\n",
    "import sys\n",
    "\n",
    "import cStringIO\n",
    "import graphviz as gv\n",
    "import matplotlib.pyplot as plt\n",
    "import networkx as nx\n",
    "import numpy as np\n",
    "\n",
    "import copy\n",
    "import pickle\n",
    "from libSpineML.smlUtils import load_sc_data\n",
    "\n",
    "neuron_params = {'mem_model':\n",
    "                            {'name':'ESNNode', 'filename':'ESNNode.xml'},\n",
    "                         'weight_update' :\n",
    "                            {'name':'ESNWeight', 'filename':'ESNWeight.xml','override':{'w':0.2},\n",
    "                             'input_src_port':\"activation\",\n",
    "                             'input_dst_port':\"in\"\n",
    "                            \n",
    "                            \n",
    "                            },\n",
    "                         'synapse' :\n",
    "                            {'name':'ESNConnection', 'filename':'ESNConnection.xml',\n",
    "                            'input_src_port':\"out\",\n",
    "                             'input_dst_port':\"I\",\n",
    "                             'output_src_port':\"I_in\",\n",
    "                             'output_dst_port':\"Input\"                           \n",
    "                            \n",
    "                            },\n",
    "                         'input_model':\n",
    "                            {'name':'ESNInput', 'filename':'ESNInput.xml'}\n",
    "                }\n",
    "\n",
    "N = 3\n",
    "\n",
    "# first lets create our own false json file and lpu_dict file\n",
    "lpu_dict = {'neurons':{},'populations':[]}\n",
    "lpu_dict['neurons'] = {str(i):str(i) for i in np.arange(N)}\n",
    "lpu_dict['population'] = {str(i):str(i) for i in np.arange(N)}\n",
    "\n",
    "connections_json = {'nodes':{},'edges':{}}\n",
    "connections_json['nodes'] = {str(i).encode('utf8') : {u'class': u'Neuron', u'name': str(i).encode('utf8') , u'uname': str(i).encode('utf8') } for i in np.arange(N)}\n",
    "\n",
    "# create connections:\n",
    "# eydentity matrix\n",
    "adjacency_matrix =  -(np.eye(N,N)-1) * 0.1\n",
    "\n",
    "for n in np.arange(adjacency_matrix.shape[0]):\n",
    "    if str(n).encode('utf8') not in connections_json['edges']:\n",
    "        connections_json['edges'][str(n).encode('utf8')] = {}\n",
    "    for m in np.arange(adjacency_matrix.shape[1]):\n",
    "        if  adjacency_matrix[n,m]!=0:\n",
    "            if str(m).encode('utf8') not in connections_json['edges'][str(n).encode('utf8')]:\n",
    "\n",
    "                connections_json['edges'][str(n).encode('utf8')][str(m).encode('utf8')] = {}\n",
    "\n",
    "                connections_json['edges'][str(n).encode('utf8')][str(m).encode('utf8')] = {}\n",
    "                connections_json['edges'][str(n).encode('utf8')][str(m).encode('utf8')] = {u'inferred': 0, u'synapses': adjacency_matrix[n,m]}\n",
    " \n",
    "                                                                             \n",
    "                                                                             #connections_json['edges'] = {str(i).encode('utf8') : {str((N-1)-i).encode('utf8') :{u'inferred': 0, u'synapses': 0.1}} for i in np.arange(N)}\n",
    "                        \n",
    "                        \n",
    "                    "
   ]
  },
  {
   "cell_type": "markdown",
   "metadata": {},
   "source": [
    "# Build an ESN implementation\n",
    "\n",
    "We can pass in a custom neuron parameters dictionary to specify the ESN network components\n"
   ]
  },
  {
   "cell_type": "markdown",
   "metadata": {},
   "source": [
    "# Create Echo State Inputs\n",
    "\n",
    "## TODO\n",
    "\n",
    "2. Expand system to allow for different Model specifications from the JSON, this should allow multiple Neuron Body Types"
   ]
  },
  {
   "cell_type": "code",
   "execution_count": 2,
   "metadata": {},
   "outputs": [
    {
     "data": {
      "text/plain": [
       "{'0': {u'class': u'Neuron', u'name': '0', u'uname': '0'},\n",
       " '1': {u'class': u'Neuron', u'name': '1', u'uname': '1'},\n",
       " '2': {u'class': u'Neuron', u'name': '2', u'uname': '2'},\n",
       " 'Input_1': {u'class': u'Input', 'name': 'Input_1', u'uname': 'Input_1'}}"
      ]
     },
     "execution_count": 2,
     "metadata": {},
     "output_type": "execute_result"
    }
   ],
   "source": [
    "# N_Inputs\n",
    "\n",
    "# For every Input, add a ESNInput Node\n",
    "# For every non-zero ESN Weight for that Input add a projection with a weight\n",
    "\n",
    "inputs = {'Input_1':{'2':0.2,'1':0.5}}\n",
    "\n",
    "# Add all input Nodes\n",
    "for i in inputs.keys():\n",
    "    # add a node and population\n",
    "    connections_json['nodes'][i] = {u'class': u'Input','name': i , u'uname': i}\n",
    "\n",
    "# Add input connections\n",
    "for i in inputs.keys():\n",
    "    for n in inputs[i].keys():\n",
    "        if i not in connections_json['edges']: connections_json['edges'][i] ={}\n",
    "        if n not in connections_json['edges'][i]: connections_json['edges'][i][n] ={}\n",
    "        connections_json['edges'][i][n] = {u'inferred': 0, u'synapses': inputs[i][n]}\n",
    "\n",
    "connections_json['nodes']"
   ]
  },
  {
   "cell_type": "code",
   "execution_count": 3,
   "metadata": {},
   "outputs": [
    {
     "data": {
      "text/plain": [
       "{'0': {'1': {u'inferred': 0, u'synapses': 0.1},\n",
       "  '2': {u'inferred': 0, u'synapses': 0.1}},\n",
       " '1': {'0': {u'inferred': 0, u'synapses': 0.1},\n",
       "  '2': {u'inferred': 0, u'synapses': 0.1}},\n",
       " '2': {'0': {u'inferred': 0, u'synapses': 0.1},\n",
       "  '1': {u'inferred': 0, u'synapses': 0.1}},\n",
       " 'Input_1': {'1': {u'inferred': 0, u'synapses': 0.5},\n",
       "  '2': {u'inferred': 0, u'synapses': 0.2}}}"
      ]
     },
     "execution_count": 3,
     "metadata": {},
     "output_type": "execute_result"
    }
   ],
   "source": [
    "connections_json['edges']"
   ]
  },
  {
   "cell_type": "code",
   "execution_count": 4,
   "metadata": {},
   "outputs": [
    {
     "name": "stdout",
     "output_type": "stream",
     "text": [
      " Adding Input Node: Input_1  \n",
      "Creating SpineML representation...\n",
      "Creating ESN weights...\n",
      "WARNING: This resets all connection weights, including input weights\n",
      "done\n"
     ]
    }
   ],
   "source": [
    "\n",
    "\n",
    "neurons, populations, projections = process_connection_json(connections_json,lpu_dict,neuron_params = neuron_params) \n",
    "print \"Creating SpineML representation...\"\n",
    "\n",
    "spectral_radius=1.0\n",
    "print \"Creating ESN weights...\"\n",
    "populations,projections,adjacency_matrix = set_esn_weights(populations,projections, spectral_radius=1.0,weight_parameter='w')\n",
    "\n",
    "project = create_spineml_network(neurons, populations,\n",
    "projections,output_filename='model',network_name='model', project_name= 'drosophila')\n",
    "\n",
    "print \"done\""
   ]
  },
  {
   "cell_type": "code",
   "execution_count": 19,
   "metadata": {},
   "outputs": [
    {
     "name": "stdout",
     "output_type": "stream",
     "text": [
      "10\n"
     ]
    }
   ],
   "source": [
    "steps = 10\n",
    "print steps\n",
    "dt = 0.2\n",
    "\n",
    "SpineMLExperiment = exp.SpineMLType()\n",
    "experiment = exp.ExperimentType()\n",
    "experiment.name = \"Basic ESN Test\"\n",
    "experiment.description = \"Basic ESN Test\"\n",
    "sim = exp.SimulationType(duration=str((steps*dt)/1000),preferred_simulator='BRAHMS')\n",
    "\n",
    "IM = exp.EulerIntegrationType(dt=str(dt))\n",
    "\n",
    "sim.AbstractIntegrationMethod = IM\n",
    "experiment.Simulation = sim\n",
    "\n",
    "#TODO set Integration MEthod: exp.EulerIntegrationType(dt=1)\n",
    "\n",
    "input_signals = {i : np.random.rand(steps) for i in inputs.keys()}\n",
    "\n",
    "\n",
    "for i in inputs.keys():\n",
    "    # Create a Time Varying Array\n",
    "    tv = exp.TimeVaryingInputType(\n",
    "        name=\"%s_data\" % i,\n",
    "        target=i,\n",
    "        target_indices=0,\n",
    "        port='Input',\n",
    "        start_time=0,\n",
    "        duration=steps\n",
    "    )\n",
    "    \n",
    "    for time,value in enumerate(input_signals[i]):\n",
    "            tv.add_TimePointValue(exp.TimePointValueType(time=str(time),value=str(value)))\n",
    "    \n",
    "    experiment.add_AbstractInput(tv)\n",
    "    \n",
    "    \n",
    "for p in populations.keys():\n",
    "    \n",
    "    out = exp.LogOutputType()\n",
    "    out.set_name(\"%s_Output\" % p)\n",
    "    out.set_target(p)\n",
    "    out.set_port('activation')\n",
    "    out.start_time=0\n",
    "    out.end_time=1e+08\n",
    "\n",
    "    \n",
    "    experiment.add_AbstractOutput(out)\n",
    "    \n",
    "model = exp.ModelType()\n",
    "model.network_layer_url = 'model.xml'\n",
    "experiment.Model = model\n",
    "\n",
    "SpineMLExperiment.add_Experiment(experiment)"
   ]
  },
  {
   "cell_type": "code",
   "execution_count": null,
   "metadata": {},
   "outputs": [],
   "source": []
  },
  {
   "cell_type": "code",
   "execution_count": 20,
   "metadata": {},
   "outputs": [],
   "source": [
    "from libSpineML import smlBundle"
   ]
  },
  {
   "cell_type": "code",
   "execution_count": 21,
   "metadata": {},
   "outputs": [],
   "source": [
    "b = smlBundle.Bundle()\n",
    "b.add_experiment(SpineMLExperiment)\n",
    "\n",
    "b.add_network(project['network']['component']);\n",
    "\n",
    "b.add_component(component='ESN_files/ESNInput.xml')\n",
    "b.add_component(component='ESN_files/ESNNode.xml')\n",
    "b.add_component(component='ESN_files/ESNWeight.xml')\n",
    "b.add_component(component='ESN_files/ESNConnection.xml')\n",
    "\n",
    "b.create_project()\n",
    "\n",
    "b.export_project('project.proj',project_file='basic_test_project/')\n"
   ]
  },
  {
   "cell_type": "code",
   "execution_count": 23,
   "metadata": {},
   "outputs": [
    {
     "data": {
      "text/plain": [
       "0"
      ]
     },
     "execution_count": 23,
     "metadata": {},
     "output_type": "execute_result"
    }
   ],
   "source": [
    "from subprocess import call\n",
    "call(['./run_experiment.sh', 'basic_test_project' ])"
   ]
  },
  {
   "cell_type": "code",
   "execution_count": 25,
   "metadata": {},
   "outputs": [],
   "source": [
    "num_neurons = 70\n",
    "(data, count, t) = load_sc_data(\"./data/basic_test_project/unknown-visual_activation_logrep.xml\",num_neurons)"
   ]
  },
  {
   "cell_type": "code",
   "execution_count": 29,
   "metadata": {},
   "outputs": [
    {
     "data": {
      "image/png": "[encoded data removed]",
      "text/plain": [
       "<matplotlib.figure.Figure at 0x7f7d5d444690>"
      ]
     },
     "metadata": {},
     "output_type": "display_data"
    }
   ],
   "source": [
    "num_neurons = 3\n",
    "output = np.array(data).reshape(int(len(data)/num_neurons),num_neurons)\n",
    "plt.plot(output[:100,0:10])\n",
    "plt.show()"
   ]
  },
  {
   "cell_type": "code",
   "execution_count": null,
   "metadata": {},
   "outputs": [],
   "source": []
  }
 ],
 "metadata": {
  "kernelspec": {
   "display_name": "Python 2",
   "language": "python",
   "name": "python2"
  },
  "language_info": {
   "codemirror_mode": {
    "name": "ipython",
    "version": 2
   },
   "file_extension": ".py",
   "mimetype": "text/x-python",
   "name": "python",
   "nbconvert_exporter": "python",
   "pygments_lexer": "ipython2",
   "version": "2.7.13"
  }
 },
 "nbformat": 4,
 "nbformat_minor": 2
}
