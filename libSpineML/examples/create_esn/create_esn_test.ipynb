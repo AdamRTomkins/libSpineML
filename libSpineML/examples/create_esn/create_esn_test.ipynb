{
 "cells": [
  {
   "cell_type": "code",
   "execution_count": 8,
   "metadata": {},
   "outputs": [],
   "source": [
    "\"\"\"\n",
    "A script to convert the drosophila connectome into SpineML \n",
    "\n",
    "This build upon the pure data to add in the required infered network components:\n",
    "\n",
    "# Install libSpineML from source\n",
    "# https://github.com/AdamRTomkins/libSpineML\n",
    "\n",
    "\"\"\"\n",
    "from __future__ import division\n",
    "\n",
    "from libSpineML import smlExperiment as exp\n",
    "from libSpineML import smlNetwork as net\n",
    "from libSpineML import smlComponent as com\n",
    "from libSpineML.smlUtils import  create_spineml_network\n",
    "from libSpineML.smlUtils import  process_connection_json\n",
    "\n",
    "from libSpineML.smlUtils import  extract_adjacency_matrix\n",
    "from libSpineML.smlUtils import  inject_adjacency_matrix\n",
    "from libSpineML.smlUtils import set_esn_weights\n",
    "\n",
    "from matplotlib import pyplot as plt\n",
    "\n",
    "import csv\n",
    "import sys\n",
    "\n",
    "import cStringIO\n",
    "import graphviz as gv\n",
    "import matplotlib.pyplot as plt\n",
    "import networkx as nx\n",
    "import numpy as np\n",
    "\n",
    "import copy\n",
    "import pickle\n",
    "\n",
    "\n",
    "N = 3\n",
    "\n",
    "# first lets create our own false json file and lpu_dict file\n",
    "lpu_dict = {'neurons':{},'populations':[]}\n",
    "lpu_dict['neurons'] = {str(i):str(i) for i in np.arange(N)}\n",
    "lpu_dict['population'] = {str(i):str(i) for i in np.arange(N)}\n",
    "\n",
    "connections_json = {'nodes':{},'edges':{}}\n",
    "connections_json['nodes'] = {str(i).encode('utf8') : {u'class': u'Neuron', u'name': str(i).encode('utf8') , u'uname': str(i).encode('utf8') } for i in np.arange(N)}\n",
    "\n",
    "# create connections:\n",
    "# eydentity matrix\n",
    "adjacency_matrix =  -(np.eye(N,N)-1) * 0.1\n",
    "\n",
    "for n in np.arange(adjacency_matrix.shape[0]):\n",
    "    if str(n).encode('utf8') not in connections_json['edges']:\n",
    "        connections_json['edges'][str(n).encode('utf8')] = {}\n",
    "    for m in np.arange(adjacency_matrix.shape[1]):\n",
    "        if  adjacency_matrix[n,m]!=0:\n",
    "            if str(m).encode('utf8') not in connections_json['edges'][str(n).encode('utf8')]:\n",
    "\n",
    "                connections_json['edges'][str(n).encode('utf8')][str(m).encode('utf8')] = {}\n",
    "\n",
    "                connections_json['edges'][str(n).encode('utf8')][str(m).encode('utf8')] = {}\n",
    "                connections_json['edges'][str(n).encode('utf8')][str(m).encode('utf8')] = {u'inferred': 0, u'synapses': adjacency_matrix[n,m]}\n",
    "\n",
    "                                                                             \n",
    "                                                                             #connections_json['edges'] = {str(i).encode('utf8') : {str((N-1)-i).encode('utf8') :{u'inferred': 0, u'synapses': 0.1}} for i in np.arange(N)}"
   ]
  },
  {
   "cell_type": "code",
   "execution_count": 9,
   "metadata": {},
   "outputs": [],
   "source": [
    "#connections_json = pickle.load(( open( \"../neuroarch_example/spineml/example_connections_json.p\", \"rb\" ) ))\n",
    "#connections#_json.keys()"
   ]
  },
  {
   "cell_type": "code",
   "execution_count": 10,
   "metadata": {},
   "outputs": [
    {
     "data": {
      "text/plain": [
       "{'0': {'1': {u'inferred': 0, u'synapses': 0.1},\n",
       "  '2': {u'inferred': 0, u'synapses': 0.1}},\n",
       " '1': {'0': {u'inferred': 0, u'synapses': 0.1},\n",
       "  '2': {u'inferred': 0, u'synapses': 0.1}},\n",
       " '2': {'0': {u'inferred': 0, u'synapses': 0.1},\n",
       "  '1': {u'inferred': 0, u'synapses': 0.1}}}"
      ]
     },
     "execution_count": 10,
     "metadata": {},
     "output_type": "execute_result"
    }
   ],
   "source": [
    "connections_json['edges']"
   ]
  },
  {
   "cell_type": "code",
   "execution_count": 11,
   "metadata": {},
   "outputs": [
    {
     "name": "stdout",
     "output_type": "stream",
     "text": [
      "Creating SpineML representation...\n",
      "done\n"
     ]
    }
   ],
   "source": [
    "neurons, populations, projections = process_connection_json(connections_json,lpu_dict,neuron_params = None) \n",
    "print \"Creating SpineML representation...\"\n",
    "\n",
    "create_spineml_network(neurons, populations,\n",
    "projections,output_filename='network.xml',project_name= 'drosophila')\n",
    "\n",
    "print \"done\""
   ]
  },
  {
   "cell_type": "markdown",
   "metadata": {},
   "source": [
    "# Build an ESN implementation\n",
    "\n",
    "We can pass in a custom neuron parameters dictionary to specify the ESN network components\n"
   ]
  },
  {
   "cell_type": "code",
   "execution_count": 12,
   "metadata": {},
   "outputs": [],
   "source": [
    "neuron_params = {'mem_model':\n",
    "                            {'name':'ESNNode', 'filename':'ESNNode.xml'},\n",
    "                         'weight_update' :\n",
    "                            {'name':'ESNWeight', 'filename':'ESNWeight.xml','override':{}},\n",
    "                         'synapse' :\n",
    "                            {'name':'ESNConnection', 'filename':'ESNConnection.xml'}\n",
    "                        }"
   ]
  },
  {
   "cell_type": "code",
   "execution_count": 14,
   "metadata": {},
   "outputs": [
    {
     "name": "stdout",
     "output_type": "stream",
     "text": [
      "Creating SpineML representation...\n",
      "done\n"
     ]
    }
   ],
   "source": [
    "neurons, populations, projections = process_connection_json(connections_json,lpu_dict,neuron_params = neuron_params) \n",
    "print \"Creating SpineML representation...\"\n",
    "\n",
    "create_spineml_network(neurons, populations,\n",
    "projections,output_filename='ESN_files/test_esn_network.xml',project_name= 'drosophila')\n",
    "\n",
    "print \"done\""
   ]
  },
  {
   "cell_type": "markdown",
   "metadata": {},
   "source": [
    "# Overwrite Weights "
   ]
  },
  {
   "cell_type": "code",
   "execution_count": 15,
   "metadata": {},
   "outputs": [
    {
     "data": {
      "image/png": "[encoded data removed]",
      "text/plain": [
       "<matplotlib.figure.Figure at 0x7f12e0aac4d0>"
      ]
     },
     "metadata": {},
     "output_type": "display_data"
    }
   ],
   "source": [
    "adjacency_matrix, neuron_index = extract_adjacency_matrix(populations,projections)\n",
    "plt.imshow(adjacency_matrix)\n",
    "plt.show()"
   ]
  },
  {
   "cell_type": "code",
   "execution_count": 16,
   "metadata": {},
   "outputs": [
    {
     "data": {
      "text/plain": [
       "array([[0., 1., 1.],\n",
       "       [1., 0., 1.],\n",
       "       [1., 1., 0.]])"
      ]
     },
     "execution_count": 16,
     "metadata": {},
     "output_type": "execute_result"
    }
   ],
   "source": [
    "adjacency_matrix"
   ]
  },
  {
   "cell_type": "code",
   "execution_count": 17,
   "metadata": {},
   "outputs": [],
   "source": [
    "\n",
    "rand_matrix = adjacency_matrix* np.random.rand(adjacency_matrix.shape[0],adjacency_matrix.shape[1])\n",
    "\n",
    "populations_rand,projections_rand = inject_adjacency_matrix( populations,projections, rand_matrix, neuron_index, weight_parameter='w') \n",
    "\n",
    "adjacency_matrix_rand, _ = extract_adjacency_matrix(populations_rand,projections_rand,weight_parameter='w')  "
   ]
  },
  {
   "cell_type": "code",
   "execution_count": 24,
   "metadata": {},
   "outputs": [
    {
     "name": "stdout",
     "output_type": "stream",
     "text": [
      "Creating SpineML representation...\n",
      "Creating ESN weights...\n",
      "Creating SpineML Files\n",
      "Done\n"
     ]
    }
   ],
   "source": [
    "neuron_params = {'mem_model':\n",
    "                            {'name':'ESNNode', 'filename':'ESNNode.xml'},\n",
    "                         'weight_update' :\n",
    "                            {'name':'ESNWeight', 'filename':'ESNWeight.xml','override':{}},\n",
    "                         'synapse' :\n",
    "                            {'name':'ESNConnection', 'filename':'ESNConnection.xml'}\n",
    "                        }\n",
    "\n",
    "neurons, populations, projections = process_connection_json(connections_json,lpu_dict,neuron_params = neuron_params) \n",
    "print \"Creating SpineML representation...\"\n",
    "\n",
    "\n",
    "spectral_radius=1.0\n",
    "print \"Creating ESN weights...\"\n",
    "\n",
    "populations,projections,adjacency_matrix = set_esn_weights(populations,projections, spectral_radius=1.0,weight_parameter='w')\n",
    "\n",
    "print \"Creating SpineML Files\"\n",
    "create_spineml_network(neurons, populations,\n",
    "projections,output_filename='ESN_files/esn_network.xml',project_name= 'drosophila')\n",
    "\n",
    "print \"Done\"\n"
   ]
  },
  {
   "cell_type": "markdown",
   "metadata": {},
   "source": [
    "# Create Echo State Inputs\n",
    "\n",
    "## TODO\n",
    "\n",
    "1. Add Input to Connection Json\n",
    "2. Expand system to allow for different Model specifications from the JSON, this should allow multiple Neuron Body Types"
   ]
  },
  {
   "cell_type": "code",
   "execution_count": 25,
   "metadata": {},
   "outputs": [
    {
     "data": {
      "text/plain": [
       "{'edges': {'0': {'1': {u'inferred': 0, u'synapses': 0.1},\n",
       "   '2': {u'inferred': 0, u'synapses': 0.1}},\n",
       "  '1': {'0': {u'inferred': 0, u'synapses': 0.1},\n",
       "   '2': {u'inferred': 0, u'synapses': 0.1}},\n",
       "  '2': {'0': {u'inferred': 0, u'synapses': 0.1},\n",
       "   '1': {u'inferred': 0, u'synapses': 0.1}}},\n",
       " 'nodes': {'0': {u'class': u'Neuron', u'name': '0', u'uname': '0'},\n",
       "  '1': {u'class': u'Neuron', u'name': '1', u'uname': '1'},\n",
       "  '2': {u'class': u'Neuron', u'name': '2', u'uname': '2'}}}"
      ]
     },
     "execution_count": 25,
     "metadata": {},
     "output_type": "execute_result"
    }
   ],
   "source": [
    "# N_Inputs\n",
    "\n",
    "# For every Input, add a ESNInput Node\n",
    "# For every non-zero ESN Weight for that Input add a projection with a weight\n",
    "\n",
    "connections_json"
   ]
  },
  {
   "cell_type": "code",
   "execution_count": null,
   "metadata": {},
   "outputs": [],
   "source": []
  },
  {
   "cell_type": "code",
   "execution_count": null,
   "metadata": {},
   "outputs": [],
   "source": []
  },
  {
   "cell_type": "code",
   "execution_count": null,
   "metadata": {},
   "outputs": [],
   "source": []
  },
  {
   "cell_type": "code",
   "execution_count": null,
   "metadata": {},
   "outputs": [],
   "source": []
  },
  {
   "cell_type": "code",
   "execution_count": null,
   "metadata": {},
   "outputs": [],
   "source": []
  },
  {
   "cell_type": "code",
   "execution_count": null,
   "metadata": {},
   "outputs": [],
   "source": []
  },
  {
   "cell_type": "code",
   "execution_count": null,
   "metadata": {},
   "outputs": [],
   "source": []
  }
 ],
 "metadata": {
  "kernelspec": {
   "display_name": "Python 2",
   "language": "python",
   "name": "python2"
  },
  "language_info": {
   "codemirror_mode": {
    "name": "ipython",
    "version": 2
   },
   "file_extension": ".py",
   "mimetype": "text/x-python",
   "name": "python",
   "nbconvert_exporter": "python",
   "pygments_lexer": "ipython2",
   "version": "2.7.13"
  }
 },
 "nbformat": 4,
 "nbformat_minor": 2
}
