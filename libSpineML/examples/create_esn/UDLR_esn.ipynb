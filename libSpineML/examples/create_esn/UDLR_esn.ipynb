{
 "cells": [
  {
   "cell_type": "markdown",
   "metadata": {},
   "source": [
    "# Directional Selectivity in the Drosophila Visual System"
   ]
  },
  {
   "cell_type": "code",
   "execution_count": 1,
   "metadata": {},
   "outputs": [],
   "source": [
    "from __future__ import division\n",
    "\n",
    "from libSpineML import smlExperiment as exp\n",
    "from libSpineML import smlNetwork as net\n",
    "from libSpineML import smlComponent as com\n",
    "from libSpineML.smlUtils import  create_spineml_network\n",
    "from libSpineML.smlUtils import  process_connection_json\n",
    "\n",
    "from libSpineML.smlUtils import  extract_adjacency_matrix\n",
    "from libSpineML.smlUtils import  inject_adjacency_matrix\n",
    "from libSpineML.smlUtils import set_esn_weights\n",
    "from libSpineML.smlUtils import load_sc_data\n",
    "\n",
    "from matplotlib import pyplot as plt\n",
    "\n",
    "import csv\n",
    "import sys\n",
    "\n",
    "import cStringIO\n",
    "import graphviz as gv\n",
    "import matplotlib.pyplot as plt\n",
    "import networkx as nx\n",
    "import numpy as np\n",
    "\n",
    "import copy\n",
    "import pickle\n",
    "\n",
    "\n",
    "lpu_dict = pickle.load(( open( \"../neuroarch_example/spineml/lpu_dicts.p\", \"rb\" ) ))\n",
    "connections_json = pickle.load(( open( \"../neuroarch_example/spineml/example_connections_json.p\", \"rb\" ) ))"
   ]
  },
  {
   "cell_type": "markdown",
   "metadata": {},
   "source": [
    "# Build an ESN implementation\n",
    "\n",
    "We can pass in a custom neuron parameters dictionary to specify the ESN network components\n"
   ]
  },
  {
   "cell_type": "code",
   "execution_count": 2,
   "metadata": {},
   "outputs": [],
   "source": [
    "from utils import *\n",
    "\n",
    "neuron_params = {'mem_model':\n",
    "                            {'name':'ESNNode', 'filename':'ESNNode.xml'},\n",
    "                         'weight_update' :\n",
    "                            {'name':'ESNWeight', 'filename':'ESNWeight.xml','override':{'w':0.2},\n",
    "                             'input_src_port':\"activation\",\n",
    "                             'input_dst_port':\"in\"\n",
    "                            \n",
    "                            \n",
    "                            },\n",
    "                         'synapse' :\n",
    "                            {'name':'ESNConnection', 'filename':'ESNConnection.xml',\n",
    "                            'input_src_port':\"out\",\n",
    "                             'input_dst_port':\"I\",\n",
    "                             'output_src_port':\"I_in\",\n",
    "                             'output_dst_port':\"Input\"                           \n",
    "                            \n",
    "                            },\n",
    "                         'input_model':\n",
    "                            {'name':'ESNInput', 'filename':'ESNInput.xml'}\n",
    "                }"
   ]
  },
  {
   "cell_type": "code",
   "execution_count": 3,
   "metadata": {},
   "outputs": [],
   "source": [
    "trial_length = 100\n",
    "path_start = 0.3\n",
    "path_end = 0.7\n",
    "\n",
    "n_trials = 100\n",
    "n_classes = 2\n",
    "\n",
    "n_outputs = 13\n",
    "\n",
    "shuffle_trials = True"
   ]
  },
  {
   "cell_type": "code",
   "execution_count": 4,
   "metadata": {},
   "outputs": [],
   "source": [
    "image = bars_signal(n=100,on_size=3,off_size=10,on_val = 0.5,off_val = 0.1)\n",
    "\n",
    "centers = {}\n",
    "    \n",
    "# Move X directions\n",
    "centers[0] = generate_centers(trial_length, path_start = path_start,path_end = path_end)\n",
    "# Move Y directions\n",
    "centers[1] = generate_centers(trial_length, path_start = path_start,path_end = path_end)\n",
    "# Move X directions\n",
    "centers[2] = generate_centers(trial_length, path_start = path_end,path_end = path_start)\n",
    "# Move Y directions\n",
    "centers[3] = generate_centers(trial_length, path_start = path_end,path_end = path_start)\n",
    "\n",
    "images = {}\n",
    "trials = []\n",
    "\n",
    "\n",
    "t = 0\n",
    "for i in np.arange(n_trials):\n",
    "    trials.append(np.mod(t, n_classes))\n",
    "    t+=1\n",
    "    if t == n_outputs:t=0\n",
    "\n",
    "if shuffle_trials:\n",
    "    from random import shuffle\n",
    "    shuffle(trials)\n",
    "\n",
    "\n",
    "trial_data = []\n",
    "trial_class = []\n",
    "image_backup = image.copy()\n",
    "\n",
    "for trial in trials:\n",
    "    cs = centers[trial]\n",
    "\n",
    "    # Reversing trials\n",
    "    if trial == 1  or trial == 3: \n",
    "        image = image_backup.T.copy()\n",
    "    else:\n",
    "        image = image_backup.copy()\n",
    "\n",
    "    images[trial] = image\n",
    "    data, classes, ps, names = single_trial(image, cs,input_class=trial,hex_radius =0.03)\n",
    "\n",
    "    trial_data.append(data)\n",
    "    trial_class.append(classes)\n",
    "\n",
    "    experiment_classes = np.hstack(trial_class)\n",
    "\n",
    "    experiment_targets= -np.ones((n_outputs,experiment_classes.shape[0]))\n",
    "\n",
    "    for i,c in enumerate(experiment_classes):\n",
    "        experiment_targets[c,i] = 1\n",
    "\n",
    "    experiment_data = np.ones((trial_data[0].shape[0]*len(trial_data),trial_data[0].shape[1]))\n",
    "\n",
    "    for i,d in enumerate(trial_data):\n",
    "        experiment_data[i*trial_data[0].shape[0]:(i+1)*trial_data[0].shape[0],:] = d\n",
    "\n",
    "    experiment_data =experiment_data.T\n",
    "\n",
    "    trainlen = experiment_targets.shape[1]/2\n",
    "    future =  experiment_targets.shape[1]/2\n",
    "\n"
   ]
  },
  {
   "cell_type": "markdown",
   "metadata": {},
   "source": [
    "## 1. Identify all the input nodes and their connections\n"
   ]
  },
  {
   "cell_type": "code",
   "execution_count": 5,
   "metadata": {},
   "outputs": [],
   "source": [
    "cartridges = [k.split('-')[1] for k in connections_json['nodes'].keys() if 'L1' in k]\n",
    "\n",
    "# Reorder these to fit Input generation \n",
    "cartridges.remove(u'home')\n",
    "cartridges.sort()\n",
    "cartridges = ['home'] + cartridges\n",
    "\n",
    "input_neurons = ['L1','L2','L4']\n",
    "\n",
    "input_nodes = []\n",
    "\n",
    "for c in cartridges:\n",
    "    name = str(\"Input_%s\" % c).encode('utf8')\n",
    "    input_nodes.append(name)\n",
    "    connections_json['nodes'][name] = {u'class':  u'Input', u'name': name , u'uname': name}\n",
    "\n",
    "# Add input connections\n",
    "\n",
    "# for every Input node\n",
    "for c in cartridges:\n",
    "    for n in input_neurons:\n",
    "        pre = str(\"Input_%s\" % c).encode('utf8')\n",
    "        post = \"%s-%s\" %(n,c)\n",
    "        if post in connections_json['nodes'].keys():\n",
    "            if pre not in connections_json['edges']: connections_json['edges'][pre] ={}\n",
    "            if post not in connections_json['edges'][pre]: connections_json['edges'][pre][post] ={}\n",
    "            connections_json['edges'][pre][post] = {u'inferred': 0, u'synapses': 1}\n"
   ]
  },
  {
   "cell_type": "code",
   "execution_count": null,
   "metadata": {},
   "outputs": [],
   "source": []
  },
  {
   "cell_type": "code",
   "execution_count": 6,
   "metadata": {},
   "outputs": [
    {
     "name": "stdout",
     "output_type": "stream",
     "text": [
      " Adding Input Node: Input_R  \n",
      " Adding Input Node: Input_D  \n",
      " Adding Input Node: Input_E  \n",
      " Adding Input Node: Input_B  \n",
      " Adding Input Node: Input_C  \n",
      " Adding Input Node: Input_A  \n",
      " Adding Input Node: Input_L  \n",
      " Adding Input Node: Input_J  \n",
      " Adding Input Node: Input_K  \n",
      " Adding Input Node: Input_P  \n",
      " Adding Input Node: Input_Q  \n",
      " Adding Input Node: Input_F  \n",
      " Adding Input Node: Input_home  \n",
      "Creating SpineML representation...\n",
      "Creating ESN weights...\n",
      "WARNING: This resets all connection weights, including input weights\n",
      "done\n"
     ]
    },
    {
     "data": {
      "image/png": "[encoded data removed]",
      "text/plain": [
       "<matplotlib.figure.Figure at 0x7fb477467850>"
      ]
     },
     "metadata": {},
     "output_type": "display_data"
    }
   ],
   "source": [
    "\n",
    "neurons, populations, projections = process_connection_json(connections_json,lpu_dict,neuron_params = neuron_params) \n",
    "print \"Creating SpineML representation...\"\n",
    "\n",
    "spectral_radius=1.0\n",
    "print \"Creating ESN weights...\"\n",
    "populations,projections,adjacency_matrix = set_esn_weights(populations,projections, spectral_radius=1.0,weight_parameter='w')\n",
    "\n",
    "project = create_spineml_network(neurons, populations,\n",
    "projections,output_filename='model.xml',network_name='model',project_name= 'drosophila')\n",
    "print \"done\"\n",
    "\n",
    "adjacency_matrix, neuron_index = extract_adjacency_matrix(populations,projections, weight_parameter='w')\n",
    "plt.imshow(adjacency_matrix)\n",
    "plt.show()"
   ]
  },
  {
   "cell_type": "markdown",
   "metadata": {},
   "source": [
    "# Create an Experiment with Input"
   ]
  },
  {
   "cell_type": "code",
   "execution_count": 18,
   "metadata": {},
   "outputs": [
    {
     "name": "stdout",
     "output_type": "stream",
     "text": [
      "10000\n"
     ]
    }
   ],
   "source": [
    "steps = experiment_data.shape[1]\n",
    "#steps = 100\n",
    "print steps\n",
    "dt = 0.2\n",
    "\n",
    "SpineMLExperiment = exp.SpineMLType()\n",
    "experiment = exp.ExperimentType()\n",
    "experiment.name = \"ESN\"\n",
    "experiment.description = \"NeuroNLP-spineML bridge\"\n",
    "sim = exp.SimulationType(duration=str((steps*dt)/1000),preferred_simulator='BRAHMS')\n",
    "\n",
    "IM = exp.EulerIntegrationType(dt=str(dt))\n",
    "\n",
    "sim.AbstractIntegrationMethod = IM\n",
    "experiment.Simulation = sim\n",
    "\n",
    "\n",
    "\n",
    "#TODO set Integration MEthod: exp.EulerIntegrationType(dt=1)\n",
    "\n",
    "input_signals = {i : experiment_data[i,0:steps] for i,n in enumerate(input_nodes)}\n",
    "\n",
    "\n",
    "#for i in input_nodes:\n",
    "for i,c in enumerate(cartridges):\n",
    "    # Create a Time Varying Array\n",
    "    tv = exp.TimeVaryingInputType(\n",
    "        name=\"%s_data\" % c,\n",
    "        target=\"Input_%s\" % c,\n",
    "        target_indices=0,\n",
    "        port='Input',\n",
    "        start_time=str(0),\n",
    "        duration=str(steps*dt)\n",
    "    )\n",
    "    \n",
    "    #for time,value in enumerate(input_signals[i]):\n",
    "    for time,value in enumerate(experiment_data[i]):\n",
    "        tv.add_TimePointValue(exp.TimePointValueType(time=str(dt*time),value=str(value)))\n",
    "    \n",
    "    experiment.add_AbstractInput(tv)\n",
    "    \n",
    "for p in populations.keys():\n",
    "    \n",
    "    out = exp.LogOutputType()\n",
    "    out.set_name(\"%s_Output\" % p)\n",
    "    out.set_target(p)\n",
    "    out.set_port('activation')\n",
    "    out.start_time=0\n",
    "    out.end_time=1e+08\n",
    "    \n",
    "    experiment.add_AbstractOutput(out)\n",
    "    \n",
    "model = exp.ModelType()\n",
    "model.network_layer_url = 'model.xml'\n",
    "experiment.Model = model\n",
    "\n",
    "    \n",
    "SpineMLExperiment.add_Experiment(experiment)"
   ]
  },
  {
   "cell_type": "markdown",
   "metadata": {},
   "source": [
    "# Create a Project File"
   ]
  },
  {
   "cell_type": "code",
   "execution_count": 19,
   "metadata": {},
   "outputs": [],
   "source": [
    "from libSpineML import smlBundle"
   ]
  },
  {
   "cell_type": "code",
   "execution_count": 20,
   "metadata": {},
   "outputs": [],
   "source": [
    "b = smlBundle.Bundle()\n",
    "b.add_experiment(SpineMLExperiment)\n",
    "\n",
    "b.add_network(project['network']['component']);\n",
    "\n",
    "b.add_component(component='ESN_files/ESNInput.xml')\n",
    "b.add_component(component='ESN_files/ESNNode.xml')\n",
    "b.add_component(component='ESN_files/ESNWeight.xml')\n",
    "b.add_component(component='ESN_files/ESNConnection.xml')\n",
    "b.create_project()\n",
    "\n",
    "b.export_project('project.proj',project_file='test_project/')"
   ]
  },
  {
   "cell_type": "code",
   "execution_count": 26,
   "metadata": {},
   "outputs": [
    {
     "data": {
      "text/plain": [
       "0"
      ]
     },
     "execution_count": 26,
     "metadata": {},
     "output_type": "execute_result"
    }
   ],
   "source": [
    "from subprocess import call\n",
    "project_folder = 'test_project'\n",
    "call(['./run_experiment.sh',  project_folder])  "
   ]
  },
  {
   "cell_type": "code",
   "execution_count": 27,
   "metadata": {},
   "outputs": [],
   "source": [
    "num_neurons = 70\n",
    "(data, count, t) = load_sc_data(\"./data/test_project/unknown-visual_activation_logrep.xml\",num_neurons)"
   ]
  },
  {
   "cell_type": "code",
   "execution_count": 28,
   "metadata": {},
   "outputs": [],
   "source": [
    "num_neurons2 = 1\n",
    "(data2, count, t) = load_sc_data(\"./data/test_project/Input_E_activation_logrep.xml\",num_neurons2)"
   ]
  },
  {
   "cell_type": "code",
   "execution_count": 29,
   "metadata": {},
   "outputs": [
    {
     "data": {
      "image/png": "[encoded data removed]",
      "text/plain": [
       "<matplotlib.figure.Figure at 0x7fb4742e6fd0>"
      ]
     },
     "metadata": {},
     "output_type": "display_data"
    }
   ],
   "source": [
    "output = np.array(data).reshape(int(len(data)/num_neurons),num_neurons)\n",
    "output2 = np.array(data2).reshape(int(len(data2)/num_neurons2),num_neurons2)\n",
    "\n",
    "plt.plot(output[:steps,1])\n",
    "\n",
    "plt.show()"
   ]
  },
  {
   "cell_type": "code",
   "execution_count": null,
   "metadata": {},
   "outputs": [],
   "source": []
  },
  {
   "cell_type": "code",
   "execution_count": null,
   "metadata": {},
   "outputs": [],
   "source": []
  },
  {
   "cell_type": "code",
   "execution_count": null,
   "metadata": {},
   "outputs": [],
   "source": []
  },
  {
   "cell_type": "code",
   "execution_count": 18,
   "metadata": {},
   "outputs": [],
   "source": [
    "esn_inputs = []\n",
    "\n",
    "for n in populations['unknown-visual']['neurons']:\n",
    "    # Split to find out if its in the input neurons, and if so what cartridge\n",
    "    (n_class,n_cart) = n.split('-')\n",
    "    if n_class in input_neurons:\n",
    "        \n",
    "        # names is the names associated with experimental_inputs\n",
    "        pos = names.index(n_cart)\n",
    "        esn_inputs.append(experiment_data[pos,:])\n",
    "    else:\n",
    "        esn_inputs.append(np.zeros((1,experiment_data.shape[1])))\n"
   ]
  },
  {
   "cell_type": "code",
   "execution_count": 19,
   "metadata": {},
   "outputs": [],
   "source": [
    "esn_inputs = np.vstack(esn_inputs)"
   ]
  },
  {
   "cell_type": "code",
   "execution_count": 20,
   "metadata": {},
   "outputs": [
    {
     "data": {
      "text/plain": [
       "(70, 10000)"
      ]
     },
     "execution_count": 20,
     "metadata": {},
     "output_type": "execute_result"
    }
   ],
   "source": [
    "esn_inputs.shape"
   ]
  },
  {
   "cell_type": "code",
   "execution_count": 21,
   "metadata": {},
   "outputs": [],
   "source": [
    "def fit(inputs, states, outputs, inspect=False,output_nodes = None):\n",
    "    \"\"\"\n",
    "    Collect the network's reaction to training data, train readout weights.\n",
    "\n",
    "    Args:\n",
    "        inputs: array of dimensions (N_training_samples x n_inputs)\n",
    "        outputs: array of dimension (N_training_samples x n_outputs)\n",
    "        inspect: show a visualisation of the collected reservoir states\n",
    "\n",
    "    Returns:\n",
    "        the network's output on the training data, using the trained weights\n",
    "    \"\"\"\n",
    "    \n",
    "    n_reservoir = states.shape[0]\n",
    "    out_activation=lambda x: x\n",
    "    inverse_out_activation=lambda x: x\n",
    "    \n",
    "    # transform any vectors of shape (x,) into vectors of shape (x,1):\n",
    "    if inputs.ndim < 2:\n",
    "        inputs = np.reshape(inputs, (len(inputs), -1))\n",
    "    if outputs.ndim < 2:\n",
    "        outputs = np.reshape(outputs, (len(outputs), -1))\n",
    "    \n",
    "    full_states = states\n",
    "    \n",
    "    # remove the states which have no network output!\n",
    "    if output_nodes is not None:\n",
    "        states = output_nodes * states\n",
    "\n",
    "    # learn the weights, i.e. find the linear combination of collected\n",
    "    # network states that is closest to the target output\n",
    "    print(\"fitting...\")\n",
    "\n",
    "    # we'll disregard the first few states:\n",
    "    transient = min(int(inputs.shape[1] / 10), 100)\n",
    "    print transient\n",
    "    # include the raw inputs:\n",
    "    extended_states = np.hstack((states, inputs))\n",
    "    \n",
    "    print extended_states[transient:, :].shape\n",
    "    print np.linalg.pinv(extended_states[transient:, :]).shape\n",
    "    print inverse_out_activation(outputs[transient:, :]).shape\n",
    "    print outputs.shape\n",
    "    \n",
    "    # Solve for W_out:\n",
    "    W_out = np.dot(np.linalg.pinv(extended_states[transient:, :]),\n",
    "                        inverse_out_activation(outputs[transient:, :])).T\n",
    "    \n",
    "    # optionally visualize the collected states\n",
    "    from matplotlib import pyplot as plt\n",
    "    # (^-- we depend on matplotlib only if this option is used)\n",
    "    plt.figure(\n",
    "        figsize=(states.shape[0] * 0.0025, states.shape[1] * 0.01))\n",
    "    plt.imshow(extended_states.T, aspect='auto',\n",
    "               interpolation='nearest')\n",
    "    plt.colorbar()\n",
    "\n",
    "    \n",
    "    print(\"training error:\")\n",
    "    # apply learned weights to the collected states:\n",
    "    pred_train = out_activation(np.dot(extended_states, W_out.T))\n",
    "\n",
    "    print(np.sqrt(np.mean((pred_train - outputs)**2)))\n",
    "    return pred_train"
   ]
  },
  {
   "cell_type": "code",
   "execution_count": null,
   "metadata": {},
   "outputs": [],
   "source": []
  },
  {
   "cell_type": "code",
   "execution_count": 33,
   "metadata": {},
   "outputs": [
    {
     "name": "stdout",
     "output_type": "stream",
     "text": [
      "fitting...\n",
      "7\n",
      "(9993, 140)\n",
      "(140, 9993)\n",
      "(9993, 1)\n",
      "(10000, 1)\n",
      "training error:\n",
      "1.1448315432317622\n"
     ]
    }
   ],
   "source": [
    "train_signal = np.ones((1,steps))\n",
    "train_signal = experiment_classes.reshape(1,steps)\n",
    "\n",
    "# input needs to be the same shape as the reservoir\n",
    "res = fit(esn_inputs.T, output, train_signal.T, inspect=False,output_nodes = None)"
   ]
  },
  {
   "cell_type": "code",
   "execution_count": 36,
   "metadata": {},
   "outputs": [
    {
     "data": {
      "image/png": "[encoded data removed]",
      "text/plain": [
       "<matplotlib.figure.Figure at 0x7fb629638ad0>"
      ]
     },
     "metadata": {},
     "output_type": "display_data"
    }
   ],
   "source": [
    "plt.plot(res[0:2000]);\n",
    "plt.show()\n"
   ]
  },
  {
   "cell_type": "code",
   "execution_count": null,
   "metadata": {},
   "outputs": [],
   "source": []
  },
  {
   "cell_type": "code",
   "execution_count": null,
   "metadata": {},
   "outputs": [],
   "source": []
  },
  {
   "cell_type": "code",
   "execution_count": null,
   "metadata": {},
   "outputs": [],
   "source": []
  },
  {
   "cell_type": "code",
   "execution_count": null,
   "metadata": {},
   "outputs": [],
   "source": []
  },
  {
   "cell_type": "code",
   "execution_count": null,
   "metadata": {},
   "outputs": [],
   "source": []
  },
  {
   "cell_type": "code",
   "execution_count": null,
   "metadata": {},
   "outputs": [],
   "source": []
  }
 ],
 "metadata": {
  "kernelspec": {
   "display_name": "Python 2",
   "language": "python",
   "name": "python2"
  },
  "language_info": {
   "codemirror_mode": {
    "name": "ipython",
    "version": 2
   },
   "file_extension": ".py",
   "mimetype": "text/x-python",
   "name": "python",
   "nbconvert_exporter": "python",
   "pygments_lexer": "ipython2",
   "version": "2.7.13"
  }
 },
 "nbformat": 4,
 "nbformat_minor": 2
}
