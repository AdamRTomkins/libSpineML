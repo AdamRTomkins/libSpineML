{
 "cells": [
  {
   "cell_type": "markdown",
   "metadata": {},
   "source": [
    "# Create a Leaky Integrate and Fire Component Neuron using libSpinemL"
   ]
  },
  {
   "cell_type": "code",
   "execution_count": 1,
   "metadata": {},
   "outputs": [],
   "source": [
    "import sys\n",
    "import libSpineML\n",
    "from libSpineML import component as com\n"
   ]
  },
  {
   "cell_type": "code",
   "execution_count": null,
   "metadata": {},
   "outputs": [],
   "source": [
    "from libSpineML."
   ]
  },
  {
   "cell_type": "code",
   "execution_count": 3,
   "metadata": {},
   "outputs": [
    {
     "name": "stdout",
     "output_type": "stream",
     "text": [
      "<libSpineML.component.ComponentClassType object at 0x7fea8edf5b10>\n"
     ]
    }
   ],
   "source": [
    "# Create a new neuron body\n",
    "c = com.ComponentClassType('LeakyIAF','neuronbody')\n",
    "# Add neuron parameters\n",
    "c.add_Parameter(com.ParameterType('C','nS'))\n",
    "c.add_Parameter(com.ParameterType('C','nS'))\n",
    "c.add_Parameter(com.ParameterType('Vt','mV'))\n",
    "c.add_Parameter(com.ParameterType('Er','mV'))\n",
    "c.add_Parameter(com.ParameterType('Vr','mV'))\n",
    "c.add_Parameter(com.ParameterType('R','MOhm'))\n",
    "\n",
    "print c"
   ]
  },
  {
   "cell_type": "code",
   "execution_count": 4,
   "metadata": {},
   "outputs": [],
   "source": [
    "# Specify Neuron Dynamics\n",
    "td = com.TimeDerivativeType('V', '((I_Syn) / C) + (Vr - V) / (R*C)')\n",
    "\n",
    "sa = com.StateAssignmentType('V','Vr')\n",
    "tr = com.TriggerType('V > Vt')\n",
    "eo = com.EventOutType('spike')\n",
    "\n",
    "# Create the On Condition\n",
    "con = com.OnConditionType('integrating',[sa],[eo],None,tr)\n",
    "\n",
    "# Create Dynamics\n",
    "reg = com.RegimeType('integrating',[td],[con])\n",
    "\n",
    "dyn = com.DynamicsType('integrating',[reg])\n",
    "dyn.add_StateVariable(com.StateVariableType('V','mV'))\n",
    "c.set_Dynamics(dyn) \n"
   ]
  },
  {
   "cell_type": "code",
   "execution_count": 5,
   "metadata": {},
   "outputs": [],
   "source": [
    "\n",
    "# Add Ports\n",
    "c.add_Port(com.EventSendPortType('spike'))\n",
    "c.add_Port(com.AnalogReducePortType('I_syn','+','mA'))\n"
   ]
  },
  {
   "cell_type": "code",
   "execution_count": 6,
   "metadata": {},
   "outputs": [
    {
     "name": "stdout",
     "output_type": "stream",
     "text": [
      "<NML:SpineMLType>\n",
      "    <NML:ComponentClass xmlns:NML=\"http://www.shef.ac.uk/SpineMLComponentLayer\" name=\"LeakyIAF\" type=\"neuronbody\">\n",
      "        <NML:Dynamics xmlns:NML=\"http://www.shef.ac.uk/SpineMLComponentLayer\" initial_regime=\"integrating\">\n",
      "            <NML:Regime xmlns:NML=\"http://www.shef.ac.uk/SpineMLComponentLayer\" name=\"integrating\">\n",
      "                <NML:TimeDerivative xmlns:NML=\"http://www.shef.ac.uk/SpineMLComponentLayer\" variable=\"V\">\n",
      "                    <NML:MathInline>((I_Syn) / C) + (Vr - V) / (R*C)</NML:MathInline>\n",
      "                </NML:TimeDerivative>\n",
      "                <NML:OnCondition xmlns:NML=\"http://www.shef.ac.uk/SpineMLComponentLayer\" target_regime=\"integrating\">\n",
      "                    <NML:StateAssignment xmlns:NML=\"http://www.shef.ac.uk/SpineMLComponentLayer\" variable=\"V\">\n",
      "                        <NML:MathInline>Vr</NML:MathInline>\n",
      "                    </NML:StateAssignment>\n",
      "                    <NML:EventOut xmlns:NML=\"http://www.shef.ac.uk/SpineMLComponentLayer\" port=\"spike\"/>\n",
      "                    <NML:Trigger xmlns:NML=\"http://www.shef.ac.uk/SpineMLComponentLayer\">\n",
      "                        <NML:MathInline>V &gt; Vt</NML:MathInline>\n",
      "                    </NML:Trigger>\n",
      "                </NML:OnCondition>\n",
      "            </NML:Regime>\n",
      "            <NML:StateVariable xmlns:NML=\"http://www.shef.ac.uk/SpineMLComponentLayer\" name=\"V\" dimension=\"mV\"/>\n",
      "        </NML:Dynamics>\n",
      "        <NML:Port xmlns:NML=\"http://www.shef.ac.uk/SpineMLComponentLayer\" name=\"spike\"/>\n",
      "        <NML:Port xmlns:NML=\"http://www.shef.ac.uk/SpineMLComponentLayer\" name=\"I_syn\" reduce_op=\"+\" dimension=\"mA\"/>\n",
      "        <NML:Parameter xmlns:NML=\"http://www.shef.ac.uk/SpineMLComponentLayer\" name=\"C\" dimension=\"nS\"/>\n",
      "        <NML:Parameter xmlns:NML=\"http://www.shef.ac.uk/SpineMLComponentLayer\" name=\"C\" dimension=\"nS\"/>\n",
      "        <NML:Parameter xmlns:NML=\"http://www.shef.ac.uk/SpineMLComponentLayer\" name=\"Vt\" dimension=\"mV\"/>\n",
      "        <NML:Parameter xmlns:NML=\"http://www.shef.ac.uk/SpineMLComponentLayer\" name=\"Er\" dimension=\"mV\"/>\n",
      "        <NML:Parameter xmlns:NML=\"http://www.shef.ac.uk/SpineMLComponentLayer\" name=\"Vr\" dimension=\"mV\"/>\n",
      "        <NML:Parameter xmlns:NML=\"http://www.shef.ac.uk/SpineMLComponentLayer\" name=\"R\" dimension=\"MOhm\"/>\n",
      "    </NML:ComponentClass>\n",
      "</NML:SpineMLType>\n"
     ]
    }
   ],
   "source": [
    "\n",
    "# Finalise and Export\n",
    "LeakyIAF = com.SpineMLType(c)\n",
    "LeakyIAF.export(sys.stdout,0,namespacedef_='')\n"
   ]
  },
  {
   "cell_type": "code",
   "execution_count": null,
   "metadata": {},
   "outputs": [],
   "source": []
  }
 ],
 "metadata": {
  "kernelspec": {
   "display_name": "Python 2",
   "language": "python",
   "name": "python2"
  },
  "language_info": {
   "codemirror_mode": {
    "name": "ipython",
    "version": 2
   },
   "file_extension": ".py",
   "mimetype": "text/x-python",
   "name": "python",
   "nbconvert_exporter": "python",
   "pygments_lexer": "ipython2",
   "version": "2.7.13"
  }
 },
 "nbformat": 4,
 "nbformat_minor": 2
}
